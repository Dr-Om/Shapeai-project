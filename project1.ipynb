{
  "nbformat": 4,
  "nbformat_minor": 0,
  "metadata": {
    "colab": {
      "name": "project1.ipynb",
      "provenance": []
    },
    "kernelspec": {
      "name": "python3",
      "display_name": "Python 3"
    },
    "language_info": {
      "name": "python"
    }
  },
  "cells": [
    {
      "cell_type": "code",
      "metadata": {
        "colab": {
          "base_uri": "https://localhost:8080/"
        },
        "id": "T-ojszev0jmt",
        "outputId": "691c847a-5f44-4e0f-abd8-d3850afc540b"
      },
      "source": [
        "\n",
        "import requests\n",
        "#import os\n",
        "from datetime import datetime\n",
        "\n",
        "api_key = '4b6629d6da63592351d5afbd39efce17'\n",
        "location = input(\"Enter the city name: \")\n",
        "\n",
        "complete_api_link = \"https://api.openweathermap.org/data/2.5/weather?q=\"+location+\"&appid=\"+api_key\n",
        "api_link = requests.get(complete_api_link)\n",
        "api_data = api_link.json()\n",
        "\n",
        "#create variables to store and display data\n",
        "temp_city = ((api_data['main']['temp']) - 273.15)\n",
        "weather_desc = api_data['weather'][0]['description']\n",
        "hmdt = api_data['main']['humidity']\n",
        "wind_spd = api_data['wind']['speed']\n",
        "date_time = datetime.now().strftime(\"%d %b %Y | %I:%M:%S %p\")\n",
        "\n",
        "print(\"-------------------------------------------------------------\")\n",
        "print(\"Weather Stats for - {}  || {}\".format(location.upper(), date_time))\n",
        "print(\"--------------------------------------------------------------\")\n",
        "\n",
        "print(\"Current temperature is: {:.2f} deg C\".format(temp_city))\n",
        "print(\"Current weather desc  :\",weather_desc)\n",
        "print(\"Current Humidity      :\",hmdt, '%')\n",
        "print(\"Current wind speed    :\",wind_spd ,'kmph') \n",
        "dr=open('word.txt','w+')\n",
        "dr.write(\"-------------------------------------------------------------\\n\")\n",
        "dr.write(\"Weather Stats for - {}  || {} \\n\".format(location.upper(), date_time))\n",
        "dr.write(\"--------------------------------------------------------------\\n\")\n",
        "dr.write(\"Current temperature is: {:.2f} deg C\\n\".format(temp_city))\n",
        "dr.write(\"Current weather desc :{} \\n\".format(weather_desc))\n",
        "dr.write(\"Current Humidity   :{} %   \\n\".format(hmdt))\n",
        "dr.write(\"Current wind speed :{} 'kmph'  \\n\".format(wind_spd ,'kmph'))\n",
        "\n",
        "dr.close()\n"
      ],
      "execution_count": null,
      "outputs": [
        {
          "output_type": "stream",
          "text": [
            "Enter the city name: nagpur\n",
            "-------------------------------------------------------------\n",
            "Weather Stats for - NAGPUR  || 22 Jun 2021 | 08:19:35 PM\n",
            "--------------------------------------------------------------\n",
            "Current temperature is: 27.01 deg C\n",
            "Current weather desc  : heavy intensity rain\n",
            "Current Humidity      : 78 %\n",
            "Current wind speed    : 1.54 kmph\n"
          ],
          "name": "stdout"
        }
      ]
    },
    {
      "cell_type": "markdown",
      "metadata": {
        "id": "KGtnUtwBUNc3"
      },
      "source": [
        ""
      ]
    },
    {
      "cell_type": "markdown",
      "metadata": {
        "id": "wJkOh96qUPsD"
      },
      "source": [
        ""
      ]
    },
    {
      "cell_type": "markdown",
      "metadata": {
        "id": "59JH07UWJOR-"
      },
      "source": [
        ""
      ]
    },
    {
      "cell_type": "markdown",
      "metadata": {
        "id": "qBkYqzCDJOyt"
      },
      "source": [
        ""
      ]
    },
    {
      "cell_type": "markdown",
      "metadata": {
        "id": "pYFKbNmPIU1U"
      },
      "source": [
        ""
      ]
    },
    {
      "cell_type": "markdown",
      "metadata": {
        "id": "ka4ug14yCjsV"
      },
      "source": [
        "# New Section"
      ]
    }
  ]
}